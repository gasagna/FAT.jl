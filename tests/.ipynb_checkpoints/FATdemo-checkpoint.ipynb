{
 "cells": [
  {
   "cell_type": "markdown",
   "metadata": {},
   "source": [
    "## Flow Analysis Tool: A demo "
   ]
  },
  {
   "cell_type": "markdown",
   "metadata": {},
   "source": [
    "FAT, Flow Analysis Tool, is a toolbox that can be used to post-process two and three dimensional simulation data from OpenFOAM. It is mainly focused on high-level manipulation of velocity vector fields, and specifically on order reduction and modelling. In this notebook, the usage and capabilities of the FAT toolbox is demonstrated on a test problem, the flow in a lid-driven cavity."
   ]
  },
  {
   "cell_type": "markdown",
   "metadata": {},
   "source": [
    "We start by importing the `Meshes` submodule, which manages the mesh loading and manipulation"
   ]
  },
  {
   "cell_type": "code",
   "execution_count": null,
   "metadata": {
    "collapsed": true
   },
   "outputs": [],
   "source": [
    "using FAT.Meshes"
   ]
  },
  {
   "cell_type": "code",
   "execution_count": null,
   "metadata": {
    "collapsed": true
   },
   "outputs": [],
   "source": []
  },
  {
   "cell_type": "markdown",
   "metadata": {},
   "source": []
  }
 ],
 "metadata": {
  "kernelspec": {
   "display_name": "Julia 0.4.1",
   "language": "julia",
   "name": "julia-0.4"
  }
 },
 "nbformat": 4,
 "nbformat_minor": 0
}
