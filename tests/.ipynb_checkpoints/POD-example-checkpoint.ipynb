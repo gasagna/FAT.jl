{
 "cells": [
  {
   "cell_type": "code",
   "execution_count": 1,
   "metadata": {
    "collapsed": false
   },
   "outputs": [],
   "source": [
    "using PyPlot; pygui(true);"
   ]
  },
  {
   "cell_type": "code",
   "execution_count": 2,
   "metadata": {
    "collapsed": false
   },
   "outputs": [
    {
     "name": "stderr",
     "output_type": "stream",
     "text": [
      "INFO: Recompiling stale cache file /Users/davide/.julia/lib/v0.4/FAT.ji for module FAT.\n"
     ]
    }
   ],
   "source": [
    "using FAT.Utils\n",
    "using FAT.Simulations\n",
    "using FAT.Fields\n",
    "using FAT.Meshes\n",
    "using FAT.POD"
   ]
  },
  {
   "cell_type": "code",
   "execution_count": null,
   "metadata": {
    "collapsed": false
   },
   "outputs": [],
   "source": [
    "close(sim)"
   ]
  },
  {
   "cell_type": "code",
   "execution_count": null,
   "metadata": {
    "collapsed": false
   },
   "outputs": [],
   "source": [
    "OpenFoamToHDF5(\"ldc_time-resolved/\"; overwrite=true, fielddtype=Float64, dimensions=2)"
   ]
  },
  {
   "cell_type": "code",
   "execution_count": 3,
   "metadata": {
    "collapsed": false
   },
   "outputs": [],
   "source": [
    "sim = SimulationData(\"ldc_large/\"; meshdtype=Float64, fielddtype=Float64);"
   ]
  },
  {
   "cell_type": "code",
   "execution_count": 4,
   "metadata": {
    "collapsed": false
   },
   "outputs": [],
   "source": [
    "us = fields(sim, Val{:U}, 120:0.5:175.0);"
   ]
  },
  {
   "cell_type": "code",
   "execution_count": 5,
   "metadata": {
    "collapsed": false
   },
   "outputs": [],
   "source": [
    "m = mean(us);"
   ]
  },
  {
   "cell_type": "code",
   "execution_count": 7,
   "metadata": {
    "collapsed": false
   },
   "outputs": [],
   "source": [
    "x, y, z = FAT.Meshes.cellcentres(FAT.Simulations.mesh(sim));"
   ]
  },
  {
   "cell_type": "code",
   "execution_count": null,
   "metadata": {
    "collapsed": false
   },
   "outputs": [],
   "source": [
    "figure(0)\n",
    "clf()\n",
    "# for u in us\n",
    "#     clf()\n",
    "plot(x, y, \"k.\", ms=1)\n",
    "tricontourf(x, y, curl(us[1]).internalField, -300:1:300, cmap=PyPlot.cm[:seismic])\n",
    "    colorbar()\n",
    "    gca()[:set_aspect](1)\n",
    "#     sleep(0.1)\n",
    "# end"
   ]
  },
  {
   "cell_type": "code",
   "execution_count": 12,
   "metadata": {
    "collapsed": false,
    "scrolled": false
   },
   "outputs": [],
   "source": [
    "ups = eltype(us)[u-m for u in us];"
   ]
  },
  {
   "cell_type": "code",
   "execution_count": 13,
   "metadata": {
    "collapsed": false
   },
   "outputs": [],
   "source": [
    "a, uis, λ = FAT.POD.snapshotPOD(ups, 50);"
   ]
  },
  {
   "cell_type": "code",
   "execution_count": null,
   "metadata": {
    "collapsed": false
   },
   "outputs": [],
   "source": [
    "a_tr = Float64[inner(u-m, ui) for u in u_trs, ui in uis];"
   ]
  },
  {
   "cell_type": "code",
   "execution_count": null,
   "metadata": {
    "collapsed": false
   },
   "outputs": [],
   "source": [
    "figure(1)\n",
    "clf()\n",
    "plot(cumsum(λ)/sum(λ), \".\")\n",
    "#xlim(0, 50)\n",
    "#ylim(1e-8, 1e-3)"
   ]
  },
  {
   "cell_type": "code",
   "execution_count": null,
   "metadata": {
    "collapsed": false
   },
   "outputs": [],
   "source": [
    "figure(2)\n",
    "clf()\n",
    "# i = 10\n",
    "plot(times(u_rs), a_tr[:, 40]);\n",
    "# plot(times(us), 20*(a[:, i] - a0[:, i])/0.002);"
   ]
  },
  {
   "cell_type": "code",
   "execution_count": null,
   "metadata": {
    "collapsed": false
   },
   "outputs": [],
   "source": [
    "figure(3)\n",
    "clf()\n",
    "plot(times(us), [FAT.Fields.integral(u.scalars[2]) for u in us])"
   ]
  },
  {
   "cell_type": "code",
   "execution_count": null,
   "metadata": {
    "collapsed": true
   },
   "outputs": [],
   "source": [
    "close(\"all\")"
   ]
  },
  {
   "cell_type": "code",
   "execution_count": 15,
   "metadata": {
    "collapsed": false
   },
   "outputs": [],
   "source": [
    "ϕ = uis[1];"
   ]
  },
  {
   "cell_type": "code",
   "execution_count": 17,
   "metadata": {
    "collapsed": false
   },
   "outputs": [],
   "source": [
    "tmp = zeroScalarField(FAT.Fields.mesh(ϕ), 2);\n",
    "ω = zeroScalarField(FAT.Fields.mesh(ϕ), 2);"
   ]
  },
  {
   "cell_type": "code",
   "execution_count": null,
   "metadata": {
    "collapsed": true
   },
   "outputs": [],
   "source": []
  },
  {
   "cell_type": "code",
   "execution_count": 18,
   "metadata": {
    "collapsed": false
   },
   "outputs": [
    {
     "name": "stdout",
     "output_type": "stream",
     "text": [
      "  "
     ]
    },
    {
     "data": {
      "text/plain": [
       "FAT.Fields.ScalarField{2,Float64,FAT.Meshes.HexaMesh{Float64}}([0.387629,0.151574,-0.604021,-2.16308,-4.50275,-7.4576,-10.8275,-14.4362,-18.1547,-21.9029  …  42.8453,52.1783,57.0852,58.8397,54.6038,46.6148,33.4127,19.7405,4.06218,-1.50727],[0.0,0.0,0.0,0.0,0.0,0.0,0.0,0.0,0.0,0.0  …  0.0,0.0,0.0,0.0,0.0,0.0,0.0,0.0,0.0,0.0],Hexahedral mesh object at 616305417414324312:  \n",
       "  ~ 18000 cells                 \n",
       "  ~ 36542 points               \n",
       "  ~ 72270 total faces           \n",
       "  ~ 36540 boundary faces\n",
       "  ~ 4 patches: \n",
       "    ~ movingWall: 150 faces\n",
       "    ~ front: 18000 faces\n",
       "    ~ back: 18000 faces\n",
       "    ~ fixedWalls: 390 faces\n",
       ")"
      ]
     },
     "execution_count": 18,
     "metadata": {},
     "output_type": "execute_result"
    },
    {
     "name": "stdout",
     "output_type": "stream",
     "text": [
      "0.084767 seconds (1.51 M allocations: 36.255 MB, 13.57% gc time)\n"
     ]
    }
   ],
   "source": [
    "@time ω = curl!(ϕ, ω, tmp)"
   ]
  },
  {
   "cell_type": "code",
   "execution_count": null,
   "metadata": {
    "collapsed": true
   },
   "outputs": [],
   "source": []
  }
 ],
 "metadata": {
  "kernelspec": {
   "display_name": "Julia 0.4.2",
   "language": "julia",
   "name": "julia-0.4"
  },
  "language_info": {
   "file_extension": ".jl",
   "mimetype": "application/julia",
   "name": "julia",
   "version": "0.4.2"
  }
 },
 "nbformat": 4,
 "nbformat_minor": 0
}
