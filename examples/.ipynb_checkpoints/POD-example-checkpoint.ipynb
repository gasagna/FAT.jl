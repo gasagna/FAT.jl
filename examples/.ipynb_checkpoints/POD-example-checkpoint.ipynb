{
 "cells": [
  {
   "cell_type": "code",
   "execution_count": 2,
   "metadata": {
    "collapsed": false
   },
   "outputs": [],
   "source": [
    "using PyPlot; pygui(true);"
   ]
  },
  {
   "cell_type": "code",
   "execution_count": 3,
   "metadata": {
    "collapsed": false
   },
   "outputs": [
    {
     "name": "stderr",
     "output_type": "stream",
     "text": [
      "INFO: Precompiling module FAT...\n",
      "INFO: Recompiling stale cache file /Users/davide/.julia/lib/v0.4/DataStructures.ji for module DataStructures.\n",
      "INFO: Recompiling stale cache file /Users/davide/.julia/lib/v0.4/HDF5.ji for module HDF5.\n",
      "INFO: Recompiling stale cache file /Users/davide/.julia/lib/v0.4/Blosc.ji for module Blosc.\n"
     ]
    }
   ],
   "source": [
    "using FAT.Utils\n",
    "using FAT.Simulations\n",
    "using FAT.Fields\n",
    "using FAT.Meshes\n",
    "using FAT.POD"
   ]
  },
  {
   "cell_type": "code",
   "execution_count": 4,
   "metadata": {
    "collapsed": false
   },
   "outputs": [],
   "source": [
    "OpenFoamToHDF5(\"/Users/davide/Research/sparserom/ldc/ldc_large\"; overwrite=true, fielddtype=Float64, dimensions=2)"
   ]
  },
  {
   "cell_type": "code",
   "execution_count": null,
   "metadata": {
    "collapsed": false
   },
   "outputs": [],
   "source": [
    "sim = SimulationData(\"/Users/davide/Research/sparserom/ldc/ldc_large\"; meshdtype=Float64, fielddtype=Float64);"
   ]
  },
  {
   "cell_type": "code",
   "execution_count": 4,
   "metadata": {
    "collapsed": false
   },
   "outputs": [],
   "source": [
    "us = fields(sim, Val{:U}, 120:0.5:175.0);"
   ]
  },
  {
   "cell_type": "code",
   "execution_count": 5,
   "metadata": {
    "collapsed": false
   },
   "outputs": [],
   "source": [
    "m = mean(us);"
   ]
  },
  {
   "cell_type": "code",
   "execution_count": 7,
   "metadata": {
    "collapsed": false
   },
   "outputs": [],
   "source": [
    "x, y, z = FAT.Meshes.cellcentres(FAT.Simulations.mesh(sim));"
   ]
  },
  {
   "cell_type": "code",
   "execution_count": null,
   "metadata": {
    "collapsed": false
   },
   "outputs": [],
   "source": [
    "figure(0)\n",
    "clf()\n",
    "# for u in us\n",
    "#     clf()\n",
    "plot(x, y, \"k.\", ms=1)\n",
    "tricontourf(x, y, curl(us[1]).internalField, -300:1:300, cmap=PyPlot.cm[:seismic])\n",
    "    colorbar()\n",
    "    gca()[:set_aspect](1)\n",
    "#     sleep(0.1)\n",
    "# end"
   ]
  },
  {
   "cell_type": "code",
   "execution_count": 12,
   "metadata": {
    "collapsed": false,
    "scrolled": false
   },
   "outputs": [],
   "source": [
    "ups = eltype(us)[u-m for u in us];"
   ]
  },
  {
   "cell_type": "code",
   "execution_count": 13,
   "metadata": {
    "collapsed": false
   },
   "outputs": [],
   "source": [
    "a, uis, λ = FAT.POD.snapshotPOD(ups, 50);"
   ]
  },
  {
   "cell_type": "code",
   "execution_count": null,
   "metadata": {
    "collapsed": false
   },
   "outputs": [],
   "source": [
    "a_tr = Float64[inner(u-m, ui) for u in u_trs, ui in uis];"
   ]
  },
  {
   "cell_type": "code",
   "execution_count": null,
   "metadata": {
    "collapsed": false
   },
   "outputs": [],
   "source": [
    "figure(1)\n",
    "clf()\n",
    "plot(cumsum(λ)/sum(λ), \".\")\n",
    "#xlim(0, 50)\n",
    "#ylim(1e-8, 1e-3)"
   ]
  },
  {
   "cell_type": "code",
   "execution_count": null,
   "metadata": {
    "collapsed": false
   },
   "outputs": [],
   "source": [
    "figure(2)\n",
    "clf()\n",
    "# i = 10\n",
    "plot(times(u_rs), a_tr[:, 40]);\n",
    "# plot(times(us), 20*(a[:, i] - a0[:, i])/0.002);"
   ]
  },
  {
   "cell_type": "code",
   "execution_count": null,
   "metadata": {
    "collapsed": false
   },
   "outputs": [],
   "source": [
    "figure(3)\n",
    "clf()\n",
    "plot(times(us), [FAT.Fields.integral(u.scalars[2]) for u in us])"
   ]
  },
  {
   "cell_type": "code",
   "execution_count": null,
   "metadata": {
    "collapsed": true
   },
   "outputs": [],
   "source": [
    "close(\"all\")"
   ]
  },
  {
   "cell_type": "code",
   "execution_count": 15,
   "metadata": {
    "collapsed": false
   },
   "outputs": [],
   "source": [
    "ϕ = uis[1];"
   ]
  },
  {
   "cell_type": "code",
   "execution_count": 17,
   "metadata": {
    "collapsed": false
   },
   "outputs": [],
   "source": [
    "tmp = zeroScalarField(FAT.Fields.mesh(ϕ), 2);\n",
    "ω = zeroScalarField(FAT.Fields.mesh(ϕ), 2);"
   ]
  },
  {
   "cell_type": "code",
   "execution_count": 19,
   "metadata": {
    "collapsed": true
   },
   "outputs": [],
   "source": [
    "using Benchmarks"
   ]
  },
  {
   "cell_type": "code",
   "execution_count": 30,
   "metadata": {
    "collapsed": false
   },
   "outputs": [
    {
     "data": {
      "text/plain": [
       "================ Benchmark Results ========================\n",
       "     Time per evaluation: 68.34 ms [66.95 ms, 69.72 ms]\n",
       "Proportion of time in GC: 4.93% [4.05%, 5.81%]\n",
       "        Memory allocated: 36.26 mb\n",
       "   Number of allocations: 1512014 allocations\n",
       "       Number of samples: 100\n",
       "   Number of evaluations: 100\n",
       " Time spent benchmarking: 6.93 s\n"
      ]
     },
     "execution_count": 30,
     "metadata": {},
     "output_type": "execute_result"
    }
   ],
   "source": [
    "@benchmark curl!(ϕ, ω, tmp)"
   ]
  },
  {
   "cell_type": "code",
   "execution_count": 27,
   "metadata": {
    "collapsed": true
   },
   "outputs": [],
   "source": [
    "Profile.clear()"
   ]
  },
  {
   "cell_type": "code",
   "execution_count": 28,
   "metadata": {
    "collapsed": false
   },
   "outputs": [
    {
     "data": {
      "text/plain": [
       "FAT.Fields.ScalarField{2,Float64,FAT.Meshes.HexaMesh{Float64}}([-0.362358,-0.0665401,0.407935,0.875785,1.22241,1.42956,1.52065,1.53145,1.49522,1.43681  …  2.29855,1.12824,-0.384438,-2.20212,-4.17328,-5.86654,-6.68342,-6.15599,-2.532,2.39442],[0.0,0.0,0.0,0.0,0.0,0.0,0.0,0.0,0.0,0.0  …  0.0,0.0,0.0,0.0,0.0,0.0,0.0,0.0,0.0,0.0],Hexahedral mesh object at 616305417414324312:  \n",
       "  ~ 18000 cells                 \n",
       "  ~ 36542 points               \n",
       "  ~ 72270 total faces           \n",
       "  ~ 36540 boundary faces\n",
       "  ~ 4 patches: \n",
       "    ~ movingWall: 150 faces\n",
       "    ~ front: 18000 faces\n",
       "    ~ back: 18000 faces\n",
       "    ~ fixedWalls: 390 faces\n",
       ")"
      ]
     },
     "execution_count": 28,
     "metadata": {},
     "output_type": "execute_result"
    }
   ],
   "source": [
    "@profile FAT.Fields.der!(ϕ.scalars[1], tmp, 1)"
   ]
  },
  {
   "cell_type": "code",
   "execution_count": 29,
   "metadata": {
    "collapsed": false
   },
   "outputs": [
    {
     "name": "stdout",
     "output_type": "stream",
     "text": [
      "31 task.jl; anonymous; line: 447\n",
      " 31 ...4/IJulia/src/IJulia.jl; eventloop; line: 141\n",
      "  30 ...rc/execute_request.jl; execute_request_0x535c5df2; line: 177\n",
      "   30 loading.jl; include_string; line: 266\n",
      "    30 profile.jl; anonymous; line: 16\n",
      "     13 ...des/FAT/src/field.jl; der!; line: 270\n",
      "      1 .../src/polygonalface.jl; svec; line: 53\n",
      "     1  ...des/FAT/src/field.jl; der!; line: 272\n",
      "     9  ...des/FAT/src/field.jl; der!; line: 274\n",
      "     7  ...des/FAT/src/field.jl; der!; line: 275\n",
      "      1 float.jl; *; line: 208\n",
      "  1  ...rc/execute_request.jl; execute_request_0x535c5df2; line: 224\n",
      "   1 dict.jl; call; line: 432\n"
     ]
    }
   ],
   "source": [
    "Profile.print()"
   ]
  },
  {
   "cell_type": "code",
   "execution_count": null,
   "metadata": {
    "collapsed": true
   },
   "outputs": [],
   "source": []
  }
 ],
 "metadata": {
  "kernelspec": {
   "display_name": "Julia 0.4.3",
   "language": "julia",
   "name": "julia-0.4"
  },
  "language_info": {
   "file_extension": ".jl",
   "mimetype": "application/julia",
   "name": "julia",
   "version": "0.4.3"
  }
 },
 "nbformat": 4,
 "nbformat_minor": 0
}
