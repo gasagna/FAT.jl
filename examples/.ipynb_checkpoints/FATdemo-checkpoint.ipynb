{
 "cells": [
  {
   "cell_type": "markdown",
   "metadata": {},
   "source": [
    "## Flow Analysis Tool: A demo "
   ]
  },
  {
   "cell_type": "markdown",
   "metadata": {},
   "source": [
    "FAT, Flow Analysis Tool, is a toolbox that can be used to post-process two and three dimensional simulation data from OpenFOAM. It is mainly focused on high-level manipulation of velocity vector fields, and specifically on order reduction and modelling. In this notebook, the usage and capabilities of the FAT toolbox is demonstrated on a test problem, the flow in a lid-driven cavity."
   ]
  },
  {
   "cell_type": "markdown",
   "metadata": {},
   "source": [
    "We import some modules useful later"
   ]
  },
  {
   "cell_type": "code",
   "execution_count": 1,
   "metadata": {
    "collapsed": false
   },
   "outputs": [],
   "source": [
    "using PyPlot"
   ]
  },
  {
   "cell_type": "markdown",
   "metadata": {},
   "source": [
    "### Meshes "
   ]
  },
  {
   "cell_type": "markdown",
   "metadata": {},
   "source": [
    "We start by importing the `Meshes` submodule, which manages the mesh loading and manipulation"
   ]
  },
  {
   "cell_type": "code",
   "execution_count": 3,
   "metadata": {
    "collapsed": true
   },
   "outputs": [],
   "source": [
    "using FAT.Meshes"
   ]
  },
  {
   "cell_type": "markdown",
   "metadata": {},
   "source": [
    "We now load an example mesh:"
   ]
  },
  {
   "cell_type": "code",
   "execution_count": 1,
   "metadata": {
    "collapsed": false
   },
   "outputs": [
    {
     "ename": "LoadError",
     "evalue": "\u001b[91mUndefVarError: Mesh not defined\u001b[39m",
     "output_type": "error",
     "traceback": [
      "\u001b[91mUndefVarError: Mesh not defined\u001b[39m",
      ""
     ]
    }
   ],
   "source": [
    "msh = Mesh(\"../tests/ldc_test_binary\")"
   ]
  },
  {
   "cell_type": "markdown",
   "metadata": {},
   "source": [
    "Some properties of the mesh are displayed and these can be also obtained from specific methods."
   ]
  },
  {
   "cell_type": "code",
   "execution_count": 5,
   "metadata": {
    "collapsed": false
   },
   "outputs": [
    {
     "name": "stdout",
     "output_type": "stream",
     "text": [
      "FAT.Meshes.ncells = 400\n",
      "FAT.Meshes.npoints = 882\n",
      "FAT.Meshes.nfaces = 1640\n",
      "FAT.Meshes.nboundaryfaces = 880\n",
      "FAT.Meshes.ninternalfaces = 760\n",
      "FAT.Meshes.npatches = 6\n"
     ]
    }
   ],
   "source": [
    "for method in [ncells, npoints, nfaces, nboundaryfaces, ninternalfaces, npatches]\n",
    "    println(string(method), \" = \", method(msh))\n",
    "end"
   ]
  },
  {
   "cell_type": "markdown",
   "metadata": {},
   "source": [
    "The coordinates of the cell centres can be obtained with:"
   ]
  },
  {
   "cell_type": "code",
   "execution_count": 6,
   "metadata": {
    "collapsed": false
   },
   "outputs": [],
   "source": [
    "x, y, z = cellcentres(msh);"
   ]
  },
  {
   "cell_type": "markdown",
   "metadata": {},
   "source": [
    "These are useful mainly for plotting, e.g.:"
   ]
  },
  {
   "cell_type": "code",
   "execution_count": 7,
   "metadata": {
    "collapsed": false
   },
   "outputs": [
    {
     "data": {
      "image/png": "[encoded data removed]",
      "text/plain": [
       "PyPlot.Figure(PyObject <matplotlib.figure.Figure object at 0x12de5ef50>)"
      ]
     },
     "metadata": {},
     "output_type": "display_data"
    }
   ],
   "source": [
    "plot(x, y, \"k.\", ms=3)\n",
    "xlabel(L\"$x$\")\n",
    "ylabel(L\"$y$\")\n",
    "xlim(0, 1)\n",
    "ylim(0, 1)\n",
    "gca()[:set_aspect](1)"
   ]
  },
  {
   "cell_type": "markdown",
   "metadata": {},
   "source": [
    "### Patches "
   ]
  },
  {
   "cell_type": "markdown",
   "metadata": {},
   "source": [
    "Patches can be found in the dictionary"
   ]
  },
  {
   "cell_type": "code",
   "execution_count": 8,
   "metadata": {
    "collapsed": false
   },
   "outputs": [
    {
     "data": {
      "text/plain": [
       "Dict{Symbol,FAT.Meshes.Patch} with 6 entries:\n",
       "  :left   => Patch 'left': first face ID 781, last face ID 800, #faces 20…\n",
       "  :right  => Patch 'right': first face ID 801, last face ID 820, #faces 20…\n",
       "  :bottom => Patch 'bottom': first face ID 821, last face ID 840, #faces 20…\n",
       "  :top    => Patch 'top': first face ID 761, last face ID 780, #faces 20…\n",
       "  :back0  => Patch 'back0': first face ID 841, last face ID 1240, #faces 400…\n",
       "  :front1 => Patch 'front1': first face ID 1241, last face ID 1640, #faces 400…"
      ]
     },
     "execution_count": 8,
     "metadata": {},
     "output_type": "execute_result"
    }
   ],
   "source": [
    "patches(msh)"
   ]
  },
  {
   "cell_type": "markdown",
   "metadata": {},
   "source": [
    "Each patch has specific methods that are used mainly in the library and are probably not needed in user code. For example to get a specific patch we use:"
   ]
  },
  {
   "cell_type": "code",
   "execution_count": 9,
   "metadata": {
    "collapsed": false
   },
   "outputs": [
    {
     "data": {
      "text/plain": [
       "Patch 'top': first face ID 761, last face ID 780, #faces 20\n"
      ]
     },
     "execution_count": 9,
     "metadata": {},
     "output_type": "execute_result"
    }
   ],
   "source": [
    "top = patch(msh, :top)"
   ]
  },
  {
   "cell_type": "code",
   "execution_count": 10,
   "metadata": {
    "collapsed": false
   },
   "outputs": [
    {
     "name": "stdout",
     "output_type": "stream",
     "text": [
      "FAT.Meshes.patchname = top\n",
      "FAT.Meshes.firstfaceID = 761\n",
      "FAT.Meshes.lastfaceID = 780\n",
      "FAT.Meshes.nfaces = 20\n"
     ]
    }
   ],
   "source": [
    "for method in [patchname, firstfaceID, lastfaceID, nfaces]\n",
    "    println(string(method), \" = \", method(top))\n",
    "end"
   ]
  },
  {
   "cell_type": "markdown",
   "metadata": {},
   "source": [
    "#### Loading simulation data"
   ]
  },
  {
   "cell_type": "markdown",
   "metadata": {},
   "source": [
    "Simulation data can be loaded and manipulated with the `FAT.Simulation` module"
   ]
  },
  {
   "cell_type": "code",
   "execution_count": 2,
   "metadata": {
    "collapsed": true
   },
   "outputs": [],
   "source": [
    "using FAT.Simulation"
   ]
  },
  {
   "cell_type": "markdown",
   "metadata": {},
   "source": [
    "The basic object is `SimulationData`. This accepts as input arguments the path of an openfoam simulation, and a tuple of directions. These indicate the \n",
    "directions that we want to load. For a 3D simulation this would be `(1, 2, 3)`, but for 2D simulations we might just need `(1, 2)` or `(1, 3)`, depending on how we have set up the simulation."
   ]
  },
  {
   "cell_type": "code",
   "execution_count": 3,
   "metadata": {
    "collapsed": false
   },
   "outputs": [
    {
     "data": {
      "text/plain": [
       "OpenFOAM simulation data object \n",
       "  ~ case directory /Users/davide/Dropbox/Codes/FAT.jl/tests/ldc_test_binary/\n",
       "  ~ 11 snapshots available, from: 0.0 to 10.0\n",
       "  ~ Mesh information:\n",
       "    ~ Mesh object \n",
       "      ~ 400 cells                 \n",
       "      ~ 1640 total faces           \n",
       "      ~ 760 internal faces\n",
       "      ~ 880 boundary faces\n",
       "      ~ 6 patches: \n",
       "        ~ left: 20 faces\n",
       "        ~ right: 20 faces\n",
       "        ~ bottom: 20 faces\n",
       "        ~ top: 20 faces\n",
       "        ~ back0: 400 faces\n",
       "        ~ front1: 400 faces\n"
      ]
     },
     "execution_count": 3,
     "metadata": {},
     "output_type": "execute_result"
    }
   ],
   "source": [
    "sim = SimulationData(\"../tests/ldc_test_binary/\", (1, 2))"
   ]
  },
  {
   "cell_type": "markdown",
   "metadata": {},
   "source": [
    "`SimulationData` is a lazy object, so not very interesting. More useful is the function `vfields`, used to load vector fields data. This function accepts as arguments a `SimulationData` object, a symbol for the field we want to load (there must be a corresponding file) and a `AbstractVector` of times that we wish to iterate over. For instance"
   ]
  },
  {
   "cell_type": "code",
   "execution_count": 5,
   "metadata": {
    "collapsed": false
   },
   "outputs": [],
   "source": [
    "us = vfields(sim, :U, 2:2:10);"
   ]
  },
  {
   "cell_type": "markdown",
   "metadata": {},
   "source": [
    "will define an iterator over the velocity fields of the simulation for the snapshots at times 2, 4, 6, 8 and 10. A field iterator is also a lazy object. Files are only loaded when we use the indexing notation. For example:"
   ]
  },
  {
   "cell_type": "code",
   "execution_count": 14,
   "metadata": {},
   "outputs": [
    {
     "data": {
      "text/plain": [
       "FAT.Fields.VectorField{2,Float64,FAT.Meshes.Mesh{Float64}} object at 3818678515958520443\n",
       "  ~ Spatial dimensions : 2\n",
       "  ~ Mesh information:\n",
       "    ~ Mesh object \n",
       "      ~ 400 cells                 \n",
       "      ~ 1640 total faces           \n",
       "      ~ 760 internal faces\n",
       "      ~ 880 boundary faces\n",
       "      ~ 6 patches: \n",
       "        ~ left: 20 faces\n",
       "        ~ right: 20 faces\n",
       "        ~ bottom: 20 faces\n",
       "        ~ top: 20 faces\n",
       "        ~ back0: 400 faces\n",
       "        ~ front1: 400 faces\n"
      ]
     },
     "execution_count": 14,
     "metadata": {},
     "output_type": "execute_result"
    }
   ],
   "source": [
    "u_at_t_2 = us[1]"
   ]
  },
  {
   "cell_type": "markdown",
   "metadata": {},
   "source": [
    "Let's see what the `x` component of this field looks like:"
   ]
  },
  {
   "cell_type": "code",
   "execution_count": 15,
   "metadata": {
    "collapsed": false
   },
   "outputs": [
    {
     "data": {
      "image/png": "[encoded data removed]",
      "text/plain": [
       "PyPlot.Figure(PyObject <matplotlib.figure.Figure object at 0x134ffed10>)"
      ]
     },
     "metadata": {},
     "output_type": "display_data"
    }
   ],
   "source": [
    "tricontourf(x, y, u_at_t_2[1].internalField, 100)\n",
    "plot(x, y, \"k.\", ms=3)\n",
    "xlabel(L\"$x$\")\n",
    "ylabel(L\"$y$\")\n",
    "xlim(0, 1)\n",
    "ylim(0, 1)\n",
    "gca()[:set_aspect](1)"
   ]
  },
  {
   "cell_type": "markdown",
   "metadata": {},
   "source": [
    "### Using `VectorFields`"
   ]
  },
  {
   "cell_type": "markdown",
   "metadata": {},
   "source": [
    "When we index a `FieldIterator` returned by `vfields` we have a `VectorField` object. We can index its `ScalarFields`, the components, like so:"
   ]
  },
  {
   "cell_type": "code",
   "execution_count": 24,
   "metadata": {},
   "outputs": [
    {
     "data": {
      "text/plain": [
       "FAT.Fields.ScalarField{2,Float64,FAT.Meshes.Mesh{Float64}} object at 15447702254212151623\n",
       "  ~ Spatial dimensions : 2\n",
       "  ~ Mesh information:\n",
       "    ~ Mesh object \n",
       "      ~ 400 cells                 \n",
       "      ~ 1640 total faces           \n",
       "      ~ 760 internal faces\n",
       "      ~ 880 boundary faces\n",
       "      ~ 6 patches: \n",
       "        ~ left: 20 faces\n",
       "        ~ right: 20 faces\n",
       "        ~ bottom: 20 faces\n",
       "        ~ top: 20 faces\n",
       "        ~ back0: 400 faces\n",
       "        ~ front1: 400 faces\n"
      ]
     },
     "execution_count": 24,
     "metadata": {},
     "output_type": "execute_result"
    }
   ],
   "source": [
    "u_at_t_2[1]"
   ]
  },
  {
   "cell_type": "markdown",
   "metadata": {},
   "source": [
    "Each `ScalarField` has two fields, the `internalField` and the `boundaryField`"
   ]
  },
  {
   "cell_type": "code",
   "execution_count": 25,
   "metadata": {},
   "outputs": [
    {
     "data": {
      "text/plain": [
       "400-element Array{Float64,1}:\n",
       "  0.000259035\n",
       "  0.000163171\n",
       " -0.00114131 \n",
       " -0.00345165 \n",
       " -0.00637457 \n",
       " -0.00950139 \n",
       " -0.0124625  \n",
       " -0.0149528  \n",
       " -0.0167425  \n",
       " -0.0176781  \n",
       " -0.0176825  \n",
       " -0.0167541  \n",
       " -0.0149674  \n",
       "  ⋮          \n",
       "  0.847522   \n",
       "  0.852223   \n",
       "  0.852351   \n",
       "  0.847918   \n",
       "  0.838286   \n",
       "  0.821949   \n",
       "  0.796091   \n",
       "  0.755503   \n",
       "  0.688596   \n",
       "  0.572195   \n",
       "  0.407524   \n",
       "  0.30517    "
      ]
     },
     "execution_count": 25,
     "metadata": {},
     "output_type": "execute_result"
    }
   ],
   "source": [
    "u_at_t_2[1].internalField"
   ]
  },
  {
   "cell_type": "markdown",
   "metadata": {},
   "source": [
    "which contain the cell centered values, and the face centered values of the boundary. To extract the face values for a particular patch we can use the `faceIDs` function, accepting a mesh object and a symbol, like so"
   ]
  },
  {
   "cell_type": "code",
   "execution_count": 64,
   "metadata": {},
   "outputs": [
    {
     "name": "stdout",
     "output_type": "stream",
     "text": [
      "top [1.0, 1.0, 1.0, 1.0, 1.0, 1.0, 1.0, 1.0, 1.0, 1.0, 1.0, 1.0, 1.0, 1.0, 1.0, 1.0, 1.0, 1.0, 1.0, 1.0]\n",
      "bottom [0.0, 0.0, 0.0, 0.0, 0.0, 0.0, 0.0, 0.0, 0.0, 0.0, 0.0, 0.0, 0.0, 0.0, 0.0, 0.0, 0.0, 0.0, 0.0, 0.0]\n",
      "left [0.0, 0.0, 0.0, 0.0, 0.0, 0.0, 0.0, 0.0, 0.0, 0.0, 0.0, 0.0, 0.0, 0.0, 0.0, 0.0, 0.0, 0.0, 0.0, 0.0]\n"
     ]
    }
   ],
   "source": [
    "for p in [:top, :bottom, :left]\n",
    "    println(p, \" \", u_at_t_2[1].boundaryField[facesIDs(msh, p) - ninternalfaces(msh)])\n",
    "end"
   ]
  },
  {
   "cell_type": "markdown",
   "metadata": {},
   "source": [
    "We can compute dot products of vector fields"
   ]
  },
  {
   "cell_type": "code",
   "execution_count": 65,
   "metadata": {},
   "outputs": [
    {
     "data": {
      "text/plain": [
       "0.06326279049336896"
      ]
     },
     "execution_count": 65,
     "metadata": {},
     "output_type": "execute_result"
    }
   ],
   "source": [
    "dot(u_at_t_2, u_at_t_2)"
   ]
  },
  {
   "cell_type": "markdown",
   "metadata": {},
   "source": [
    "and construct a correlation matrix like so"
   ]
  },
  {
   "cell_type": "code",
   "execution_count": 67,
   "metadata": {},
   "outputs": [
    {
     "data": {
      "text/plain": [
       "ccorrmat (generic function with 1 method)"
      ]
     },
     "execution_count": 67,
     "metadata": {},
     "output_type": "execute_result"
    }
   ],
   "source": [
    "function ccorrmat(us::FAT.Simulation.FieldsIterator)\n",
    "    N = length(us)\n",
    "    C = zeros(N, N)\n",
    "    for i = 1:N\n",
    "        for j = i:N\n",
    "            v = dot(us[i], us[j])\n",
    "            C[i, j] = v\n",
    "            C[j, i] = v\n",
    "        end\n",
    "    end\n",
    "    return C\n",
    "end "
   ]
  },
  {
   "cell_type": "code",
   "execution_count": 69,
   "metadata": {},
   "outputs": [
    {
     "data": {
      "text/plain": [
       "5×5 Array{Float64,2}:\n",
       " 0.0632628  0.0632628  0.0632628  0.0632628  0.0632628\n",
       " 0.0632628  0.0632628  0.0632628  0.0632628  0.0632628\n",
       " 0.0632628  0.0632628  0.0632628  0.0632628  0.0632628\n",
       " 0.0632628  0.0632628  0.0632628  0.0632628  0.0632628\n",
       " 0.0632628  0.0632628  0.0632628  0.0632628  0.0632628"
      ]
     },
     "execution_count": 69,
     "metadata": {},
     "output_type": "execute_result"
    }
   ],
   "source": [
    "ccorrmat(us)"
   ]
  },
  {
   "cell_type": "markdown",
   "metadata": {},
   "source": [
    "This is not much intersting, since the flow is stationary in this case."
   ]
  },
  {
   "cell_type": "markdown",
   "metadata": {},
   "source": [
    "We can compute the mean field like this"
   ]
  },
  {
   "cell_type": "code",
   "execution_count": 71,
   "metadata": {},
   "outputs": [
    {
     "data": {
      "text/plain": [
       "FAT.Fields.VectorField{2,Float64,FAT.Meshes.Mesh{Float64}} object at 1702290903819161866\n",
       "  ~ Spatial dimensions : 2\n",
       "  ~ Mesh information:\n",
       "    ~ Mesh object \n",
       "      ~ 400 cells                 \n",
       "      ~ 1640 total faces           \n",
       "      ~ 760 internal faces\n",
       "      ~ 880 boundary faces\n",
       "      ~ 6 patches: \n",
       "        ~ left: 20 faces\n",
       "        ~ right: 20 faces\n",
       "        ~ bottom: 20 faces\n",
       "        ~ top: 20 faces\n",
       "        ~ back0: 400 faces\n",
       "        ~ front1: 400 faces\n"
      ]
     },
     "execution_count": 71,
     "metadata": {},
     "output_type": "execute_result"
    }
   ],
   "source": [
    "um = mean(us)"
   ]
  },
  {
   "cell_type": "code",
   "execution_count": null,
   "metadata": {},
   "outputs": [],
   "source": []
  }
 ],
 "metadata": {
  "kernelspec": {
   "display_name": "Julia 0.6.4-pre",
   "language": "julia",
   "name": "julia-0.6"
  },
  "language_info": {
   "file_extension": ".jl",
   "mimetype": "application/julia",
   "name": "julia",
   "version": "0.6.4"
  }
 },
 "nbformat": 4,
 "nbformat_minor": 2
}
